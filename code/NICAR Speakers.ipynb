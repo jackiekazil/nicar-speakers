{
 "cells": [
  {
   "cell_type": "code",
   "execution_count": 2,
   "metadata": {
    "collapsed": true
   },
   "outputs": [],
   "source": [
    "%matplotlib inline"
   ]
  },
  {
   "cell_type": "code",
   "execution_count": 3,
   "metadata": {
    "collapsed": false
   },
   "outputs": [],
   "source": [
    "import requests\n",
    "from bs4 import BeautifulSoup\n",
    "import pprint\n",
    "\n",
    "def get_content(url):\n",
    "    \"\"\" Grab html content from url \"\"\"\n",
    "    response = requests.get(url)\n",
    "    html = response.content\n",
    "    return html\n",
    "\n",
    "def find_speakers(html):\n",
    "    \"\"\" Find the speakers and talk info in the html \"\"\"\n",
    "    soup = BeautifulSoup(html)\n",
    "    speakers = soup.body.article.ul.findAll('li')\n",
    "    return speakers"
   ]
  },
  {
   "cell_type": "raw",
   "metadata": {},
   "source": [
    "<li>\n",
    "<div class=\"col-18\">\n",
    "<h3 class=\"title3\">AJ Vicens</h3>\n",
    "<p>Mother Jones</p>\n",
    "</div>\n",
    "<div class=\"col-73\">\n",
    "<p>Featured at these sessions and panels:</p>\n",
    "<p><a class=\"featured\" href=\"/events-and-training/event/1494/1623/\">How I learned to take command of the command line: A journalist's guide to getting started</a></p>\n",
    "</div>\n",
    "</li>"
   ]
  },
  {
   "cell_type": "code",
   "execution_count": 4,
   "metadata": {
    "collapsed": true
   },
   "outputs": [],
   "source": [
    "def parse_speakers(speakers):\n",
    "    \"\"\" Parse speakers that were found in HTML \"\"\"\n",
    "    \n",
    "    data = {}\n",
    "    for row in speakers:\n",
    "        # Make sure we don't have any data left from previous loop\n",
    "        speaker = org = talks = None\n",
    "\n",
    "        # Grab speaker and org\n",
    "        speaker = row.find(\"h3\").string\n",
    "        if speaker:\n",
    "            org = row.find('p').string\n",
    "\n",
    "        # Grab talk titles and talk links\n",
    "        talks = {}\n",
    "        talk_data = row.findAll('a', href=True)\n",
    "        for talk in talk_data:\n",
    "            link = 'http://ire.org' + talk['href']\n",
    "            title = talk.string\n",
    "            talks[title] = link\n",
    "\n",
    "        # Add everything to a dictionary\n",
    "        if speaker and talks:\n",
    "            data[speaker] = {\n",
    "                    'org' : org,\n",
    "                    'talks' : talks, \n",
    "                }\n",
    "    return data"
   ]
  },
  {
   "cell_type": "code",
   "execution_count": 47,
   "metadata": {
    "collapsed": false
   },
   "outputs": [],
   "source": [
    "# Sample output of 5 records\n",
    "#import random\n",
    "\n",
    "# select random keys from the dictionary\n",
    "#random_keys = random.sample(data.keys(), 3)\n",
    "\n",
    "# loop over keys and select\n",
    "#for key in random_keys:\n",
    "#   print('\\n', key)\n",
    "#   pprint.pprint(data[key])"
   ]
  },
  {
   "cell_type": "code",
   "execution_count": 48,
   "metadata": {
    "collapsed": false
   },
   "outputs": [],
   "source": [
    "# Process borrowed from here: https://github.com/scrapinghub/pycon-speakers/blob/432499e350098c69d4b3e0f641c960d927ec596d/pycon_speakers/pipelines.py\n",
    "\n",
    "import sexmachine.detector as gender\n",
    "\n",
    "def get_gender(name):\n",
    "    firstname = name.split()[0]\n",
    "    d = gender.Detector()\n",
    "    name_gender = d.get_gender(firstname)\n",
    "    return name_gender\n",
    "\n",
    "def count_genders(names):\n",
    "    gender_count = {}\n",
    "    names = data.keys()\n",
    "    for name in names:\n",
    "        name_gender = get_gender(name)\n",
    "        try:\n",
    "            gender_count[name_gender] += 1\n",
    "        except KeyError:\n",
    "            gender_count[name_gender] = 1\n",
    "\n",
    "    print gender_count\n",
    "    return gender_count\n"
   ]
  },
  {
   "cell_type": "code",
   "execution_count": 49,
   "metadata": {
    "collapsed": true
   },
   "outputs": [],
   "source": [
    "urls = (\n",
    "    (2015, 'http://ire.org/conferences/nicar2015/speakers/'), \n",
    "    (2014, 'http://ire.org/conferences/nicar-2014/speakers/'),\n",
    "    (2013, 'http://ire.org/conferences/nicar-2013/speakers/'),\n",
    "    )"
   ]
  },
  {
   "cell_type": "code",
   "execution_count": 50,
   "metadata": {
    "collapsed": false
   },
   "outputs": [
    {
     "name": "stdout",
     "output_type": "stream",
     "text": [
      "{u'mostly_male': 12, u'male': 143, u'andy': 24, u'female': 69, u'mostly_female': 4}\n",
      "{u'mostly_male': 13, u'male': 137, u'andy': 14, u'mostly_female': 3, u'female': 61}\n",
      "{u'mostly_male': 4, u'male': 98, u'andy': 10, u'mostly_female': 2, u'female': 35}\n",
      "{2013: {u'andy': 10,\n",
      "        u'female': 35,\n",
      "        u'male': 98,\n",
      "        u'mostly_female': 2,\n",
      "        u'mostly_male': 4},\n",
      " 2014: {u'andy': 14,\n",
      "        u'female': 61,\n",
      "        u'male': 137,\n",
      "        u'mostly_female': 3,\n",
      "        u'mostly_male': 13},\n",
      " 2015: {u'andy': 24,\n",
      "        u'female': 69,\n",
      "        u'male': 143,\n",
      "        u'mostly_female': 4,\n",
      "        u'mostly_male': 12}}\n"
     ]
    }
   ],
   "source": [
    "counts = {}\n",
    "for url in urls:\n",
    "    html = get_content(url[1])\n",
    "    speakers = find_speakers(html)\n",
    "    data = parse_speakers(speakers)\n",
    "    count = count_genders(data)\n",
    "    \n",
    "    counts[url[0]] = count\n",
    "    \n",
    "pprint.pprint(counts)\n",
    "    "
   ]
  },
  {
   "cell_type": "code",
   "execution_count": 5,
   "metadata": {
    "collapsed": false
   },
   "outputs": [],
   "source": [
    "out = {2013: {u'andy': 10,\n",
    "        u'female': 35,\n",
    "        u'male': 98,\n",
    "        u'mostly_female': 2,\n",
    "        u'mostly_male': 4},\n",
    " 2014: {u'andy': 14,\n",
    "        u'female': 61,\n",
    "        u'male': 137,\n",
    "        u'mostly_female': 3,\n",
    "        u'mostly_male': 13},\n",
    " 2015: {u'andy': 24,\n",
    "        u'female': 69,\n",
    "        u'male': 143,\n",
    "        u'mostly_female': 4,\n",
    "        u'mostly_male': 12}}\n"
   ]
  },
  {
   "cell_type": "code",
   "execution_count": 6,
   "metadata": {
    "collapsed": false
   },
   "outputs": [
    {
     "name": "stdout",
     "output_type": "stream",
     "text": [
      "[(2013, 0.26618705035971224, 0.7338129496402878), (2014, 0.29906542056074764, 0.7009345794392523), (2015, 0.3201754385964912, 0.6798245614035088)]\n"
     ]
    }
   ],
   "source": [
    "timedata = []\n",
    "for k,v in out.iteritems():\n",
    "    male = v['mostly_male'] + v['male']\n",
    "    female = v['mostly_female'] + v['female']\n",
    "    total = male + female\n",
    "    \n",
    "    timedata.append((k, female*1.0/total, male*1.0/total))\n",
    "print timedata\n",
    "    "
   ]
  },
  {
   "cell_type": "code",
   "execution_count": 7,
   "metadata": {
    "collapsed": false
   },
   "outputs": [
    {
     "name": "stdout",
     "output_type": "stream",
     "text": [
      "             0         1\n",
      "2013  0.266187  0.733813\n",
      "2014  0.299065  0.700935\n",
      "2015  0.320175  0.679825\n"
     ]
    }
   ],
   "source": [
    "import pandas as pd\n",
    "\n",
    "# Turn the years into the index. \n",
    "# There is probably a better way to do this. \n",
    "years = [i[0] for i in timedata]\n",
    "values = [i[1:3] for i in timedata]\n",
    "df = pd.DataFrame(values, index=years)\n",
    "print df\n",
    "\n"
   ]
  },
  {
   "cell_type": "code",
   "execution_count": 8,
   "metadata": {
    "collapsed": false
   },
   "outputs": [
    {
     "data": {
      "text/plain": [
       "<matplotlib.figure.Figure at 0x106b24250>"
      ]
     },
     "metadata": {},
     "output_type": "display_data"
    },
    {
     "data": {
      "image/png": "[encoded data removed]",
      "text/plain": [
       "<matplotlib.figure.Figure at 0x10792cf10>"
      ]
     },
     "metadata": {},
     "output_type": "display_data"
    }
   ],
   "source": [
    "import matplotlib.pyplot as plt\n",
    "\n",
    "plt.figure()\n",
    "df.plot()\n",
    "plt.legend(loc='best')\n",
    "plt.show()"
   ]
  },
  {
   "cell_type": "markdown",
   "metadata": {
    "collapsed": true
   },
   "source": [
    "http://glowingpython.blogspot.com/2011/07/polynomial-curve-fitting.html\n",
    "\n",
    "https://www.google.com/search?q=Polynomial+extrapolation+python&oq=Polynomial+extrapolation+python&aqs=chrome..69i57.1074j0j1&sourceid=chrome&es_sm=91&ie=UTF-8#q=Polynomial+extrapolation+python+pandas\n",
    "\n",
    "http://en.wikipedia.org/wiki/Extrapolation\n",
    "\n",
    "http://en.wikipedia.org/wiki/Exponential_smoothing\n",
    "\n"
   ]
  }
 ],
 "metadata": {
  "kernelspec": {
   "display_name": "Python 2",
   "language": "python",
   "name": "python2"
  },
  "language_info": {
   "codemirror_mode": {
    "name": "ipython",
    "version": 2
   },
   "file_extension": ".py",
   "mimetype": "text/x-python",
   "name": "python",
   "nbconvert_exporter": "python",
   "pygments_lexer": "ipython2",
   "version": "2.7.9"
  }
 },
 "nbformat": 4,
 "nbformat_minor": 0
}
